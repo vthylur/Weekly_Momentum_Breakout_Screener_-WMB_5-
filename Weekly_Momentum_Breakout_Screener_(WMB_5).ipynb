{
  "nbformat": 4,
  "nbformat_minor": 0,
  "metadata": {
    "colab": {
      "provenance": [],
      "authorship_tag": "ABX9TyN8eNAJq/Qau+FOew5lUNn6",
      "include_colab_link": true
    },
    "kernelspec": {
      "name": "python3",
      "display_name": "Python 3"
    },
    "language_info": {
      "name": "python"
    }
  },
  "cells": [
    {
      "cell_type": "markdown",
      "metadata": {
        "id": "view-in-github",
        "colab_type": "text"
      },
      "source": [
        "<a href=\"https://colab.research.google.com/github/vthylur/Weekly_Momentum_Breakout_Screener_-WMB_5-/blob/main/Weekly_Momentum_Breakout_Screener_(WMB_5).ipynb\" target=\"_parent\"><img src=\"https://colab.research.google.com/assets/colab-badge.svg\" alt=\"Open In Colab\"/></a>"
      ]
    },
    {
      "cell_type": "code",
      "execution_count": 2,
      "metadata": {
        "colab": {
          "base_uri": "https://localhost:8080/"
        },
        "id": "edlkG53561Sq",
        "outputId": "61ec9862-e9c9-400c-f2fc-71b0d5459d46"
      },
      "outputs": [
        {
          "output_type": "stream",
          "name": "stderr",
          "text": [
            "Backtesting NSE500:  29%|██▊       | 144/503 [01:16<03:21,  1.78it/s]ERROR:yfinance:HTTP Error 404: \n",
            "ERROR:yfinance:\n",
            "1 Failed download:\n",
            "ERROR:yfinance:['DUMMYRAYMN.NS']: YFTzMissingError('possibly delisted; no timezone found')\n",
            "Backtesting NSE500: 100%|██████████| 503/503 [04:30<00:00,  1.86it/s]\n"
          ]
        },
        {
          "output_type": "stream",
          "name": "stdout",
          "text": [
            "✅ Backtest complete. Results saved to 'nse500_backtest_results.csv'\n"
          ]
        }
      ],
      "source": [
        "# === Step 1: Install Dependencies ===\n",
        "!pip install yfinance ta tqdm --quiet\n",
        "\n",
        "# === Step 2: Imports ===\n",
        "import yfinance as yf\n",
        "import pandas as pd\n",
        "import ta\n",
        "from tqdm import tqdm\n",
        "\n",
        "# === Step 3: Load NSE 500 Sector Mapping ===\n",
        "sector_df = pd.read_csv(\"/content/nse500_sector_mapping.csv\")  # Adjust path if needed\n",
        "sector_map = dict(zip(sector_df[\"Symbol\"], sector_df[\"Sector\"]))\n",
        "\n",
        "# === Step 4: Define Ticker List ===\n",
        "tickers = sector_df[\"Symbol\"].unique().tolist()\n",
        "\n",
        "# === Step 5: Indicator Calculation Function ===\n",
        "def calculate_indicators(df):\n",
        "    df = df.copy()\n",
        "    df['Close'] = df['Close'].astype(float)\n",
        "    df['High'] = df['High'].astype(float)\n",
        "    df['Low'] = df['Low'].astype(float)\n",
        "\n",
        "    # Bollinger Bands Width %\n",
        "    bb_sma = df['Close'].rolling(window=20).mean()\n",
        "    bb_std = df['Close'].rolling(window=20).std()\n",
        "    df['BB_width_pct'] = ((bb_sma + 2*bb_std) - (bb_sma - 2*bb_std)) / df['Close']\n",
        "\n",
        "    # MACD (Normalized)\n",
        "    df['MACD'] = ta.trend.macd(df['Close'])\n",
        "    df['MACD_pct'] = df['MACD'] / df['Close']\n",
        "    df['MACD_avg_pct'] = df['MACD_pct'].rolling(52).mean()\n",
        "\n",
        "    # ADX\n",
        "    df['ADX'] = ta.trend.ADXIndicator(df['High'], df['Low'], df['Close']).adx()\n",
        "\n",
        "    # ROC\n",
        "    df['ROC'] = ta.momentum.roc(df['Close'])\n",
        "\n",
        "    # Stochastic %D\n",
        "    df['Stoch_d'] = ta.momentum.StochasticOscillator(df['High'], df['Low'], df['Close']).stoch_signal()\n",
        "\n",
        "    return df\n",
        "\n",
        "# === Step 6: Backtest ===\n",
        "results = []\n",
        "\n",
        "for symbol in tqdm(tickers, desc=\"Backtesting NSE500\"):\n",
        "    try:\n",
        "        df = yf.download(symbol, start=\"2014-01-01\", interval=\"1wk\", auto_adjust=True, progress=False)\n",
        "\n",
        "        if df.empty or df.shape[0] < 70:\n",
        "            continue\n",
        "\n",
        "        # Fix column names\n",
        "        if isinstance(df.columns, pd.MultiIndex):\n",
        "            df.columns = df.columns.get_level_values(0)\n",
        "        df.reset_index(inplace=True)\n",
        "        df.columns = [str.capitalize(c) for c in df.columns]\n",
        "\n",
        "        df = calculate_indicators(df)\n",
        "        df.dropna(inplace=True)\n",
        "\n",
        "        if df.shape[0] < 10:\n",
        "            continue\n",
        "\n",
        "        for i in range(1, len(df) - 8):\n",
        "            row = df.iloc[i]\n",
        "            prev = df.iloc[i - 1]\n",
        "            future = df.iloc[i + 1:i + 9]\n",
        "\n",
        "            if pd.isna(row[['MACD_pct', 'MACD_avg_pct', 'ADX', 'ROC', 'BB_width_pct', 'Stoch_d']]).any():\n",
        "                continue\n",
        "\n",
        "            if (\n",
        "                row['MACD_pct'] > row['MACD_avg_pct'] and\n",
        "                row['ADX'] > 22 and\n",
        "                row['BB_width_pct'] > prev['BB_width_pct'] and\n",
        "                row['ROC'] > 2 and\n",
        "                row['Stoch_d'] > 55 and\n",
        "                len(future) == 8\n",
        "            ):\n",
        "                returns = [(f['Close'] - row['Close']) / row['Close'] * 100 for _, f in future.iterrows()]\n",
        "                return_cols = {f\"Return_W{j+1}\": round(r, 2) for j, r in enumerate(returns)}\n",
        "\n",
        "                results.append({\n",
        "                    \"Symbol\": symbol,\n",
        "                    \"Sector\": sector_map.get(symbol, \"Unknown\"),\n",
        "                    \"Entry_Date\": row[\"Date\"],\n",
        "                    \"Close\": round(row[\"Close\"], 2),\n",
        "                    \"MACD_pct\": round(row[\"MACD_pct\"], 4),\n",
        "                    \"MACD_avg_pct\": round(row[\"MACD_avg_pct\"], 4),\n",
        "                    \"ADX\": round(row[\"ADX\"], 2),\n",
        "                    \"ROC\": round(row[\"ROC\"], 2),\n",
        "                    \"BB_width_pct\": round(row[\"BB_width_pct\"], 4),\n",
        "                    \"Stoch_d\": round(row[\"Stoch_d\"], 2),\n",
        "                    **return_cols\n",
        "                })\n",
        "\n",
        "    except Exception as e:\n",
        "        print(f\"{symbol} skipped: {e}\")\n",
        "\n",
        "# === Step 7: Save Output ===\n",
        "result_df = pd.DataFrame(results)\n",
        "result_df.to_csv(\"nse500_backtest_results.csv\", index=False)\n",
        "print(\"✅ Backtest complete. Results saved to 'nse500_backtest_results.csv'\")\n"
      ]
    }
  ]
}